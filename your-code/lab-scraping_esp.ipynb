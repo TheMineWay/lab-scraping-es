{
 "cells": [
  {
   "cell_type": "markdown",
   "metadata": {
    "toc": true
   },
   "source": [
    "<h1>Table of Contents<span class=\"tocSkip\"></span></h1>\n",
    "<div class=\"toc\"><ul class=\"toc-item\"><li><span><a href=\"#Web-Scraping-Lab\" data-toc-modified-id=\"Web-Scraping-Lab-1\"><span class=\"toc-item-num\">1&nbsp;&nbsp;</span>Web Scraping Lab</a></span><ul class=\"toc-item\"><li><ul class=\"toc-item\"><li><span><a href=\"#Useful-Resources\" data-toc-modified-id=\"Useful-Resources-1.0.1\"><span class=\"toc-item-num\">1.0.1&nbsp;&nbsp;</span>Useful Resources</a></span><ul class=\"toc-item\"><li><span><a href=\"#First-of-all,-gathering-our-tools.\" data-toc-modified-id=\"First-of-all,-gathering-our-tools.-1.0.1.1\"><span class=\"toc-item-num\">1.0.1.1&nbsp;&nbsp;</span>First of all, gathering our tools.</a></span></li><li><span><a href=\"#Challenge-1---Download,-parse-(using-BeautifulSoup),-and-print-the-content-from-the-Trending-Developers-page-from-GitHub:\" data-toc-modified-id=\"Challenge-1---Download,-parse-(using-BeautifulSoup),-and-print-the-content-from-the-Trending-Developers-page-from-GitHub:-1.0.1.2\"><span class=\"toc-item-num\">1.0.1.2&nbsp;&nbsp;</span>Challenge 1 - Download, parse (using BeautifulSoup), and print the content from the Trending Developers page from GitHub:</a></span></li><li><span><a href=\"#Display-the-names-of-the-trending-developers-retrieved-in-the-previous-step.\" data-toc-modified-id=\"Display-the-names-of-the-trending-developers-retrieved-in-the-previous-step.-1.0.1.3\"><span class=\"toc-item-num\">1.0.1.3&nbsp;&nbsp;</span>Display the names of the trending developers retrieved in the previous step.</a></span></li><li><span><a href=\"#Challenge-2---Display-the-trending-Python-repositories-in-GitHub\" data-toc-modified-id=\"Challenge-2---Display-the-trending-Python-repositories-in-GitHub-1.0.1.4\"><span class=\"toc-item-num\">1.0.1.4&nbsp;&nbsp;</span>Challenge 2 - Display the trending Python repositories in GitHub</a></span></li><li><span><a href=\"#Challenge-3---Display-all-the-image-links-from-Walt-Disney-wikipedia-page\" data-toc-modified-id=\"Challenge-3---Display-all-the-image-links-from-Walt-Disney-wikipedia-page-1.0.1.5\"><span class=\"toc-item-num\">1.0.1.5&nbsp;&nbsp;</span>Challenge 3 - Display all the image links from Walt Disney wikipedia page</a></span></li><li><span><a href=\"#Challenge-4---Retrieve-all-links-to-pages-on-Wikipedia-that-refer-to-some-kind-of-Python.\" data-toc-modified-id=\"Challenge-4---Retrieve-all-links-to-pages-on-Wikipedia-that-refer-to-some-kind-of-Python.-1.0.1.6\"><span class=\"toc-item-num\">1.0.1.6&nbsp;&nbsp;</span>Challenge 4 - Retrieve all links to pages on Wikipedia that refer to some kind of Python.</a></span></li><li><span><a href=\"#Challenge-5---Number-of-Titles-that-have-changed-in-the-United-States-Code-since-its-last-release-point\" data-toc-modified-id=\"Challenge-5---Number-of-Titles-that-have-changed-in-the-United-States-Code-since-its-last-release-point-1.0.1.7\"><span class=\"toc-item-num\">1.0.1.7&nbsp;&nbsp;</span>Challenge 5 - Number of Titles that have changed in the United States Code since its last release point</a></span></li><li><span><a href=\"#Challenge-6---A-Python-list-with-the-top-ten-FBI's-Most-Wanted-names\" data-toc-modified-id=\"Challenge-6---A-Python-list-with-the-top-ten-FBI's-Most-Wanted-names-1.0.1.8\"><span class=\"toc-item-num\">1.0.1.8&nbsp;&nbsp;</span>Challenge 6 - A Python list with the top ten FBI's Most Wanted names</a></span></li><li><span><a href=\"#Challenge-7---List-all-language-names-and-number-of-related-articles-in-the-order-they-appear-in-wikipedia.org\" data-toc-modified-id=\"Challenge-7---List-all-language-names-and-number-of-related-articles-in-the-order-they-appear-in-wikipedia.org-1.0.1.9\"><span class=\"toc-item-num\">1.0.1.9&nbsp;&nbsp;</span>Challenge 7 - List all language names and number of related articles in the order they appear in wikipedia.org</a></span></li><li><span><a href=\"#Challenge-8---A-list-with-the-different-kind-of-datasets-available-in-data.gov.uk\" data-toc-modified-id=\"Challenge-8---A-list-with-the-different-kind-of-datasets-available-in-data.gov.uk-1.0.1.10\"><span class=\"toc-item-num\">1.0.1.10&nbsp;&nbsp;</span>Challenge 8 - A list with the different kind of datasets available in data.gov.uk</a></span></li><li><span><a href=\"#Challenge-9---Top-10-languages-by-number-of-native-speakers-stored-in-a-Pandas-Dataframe\" data-toc-modified-id=\"Challenge-9---Top-10-languages-by-number-of-native-speakers-stored-in-a-Pandas-Dataframe-1.0.1.11\"><span class=\"toc-item-num\">1.0.1.11&nbsp;&nbsp;</span>Challenge 9 - Top 10 languages by number of native speakers stored in a Pandas Dataframe</a></span></li></ul></li><li><span><a href=\"#Stepping-up-the-game\" data-toc-modified-id=\"Stepping-up-the-game-1.0.2\"><span class=\"toc-item-num\">1.0.2&nbsp;&nbsp;</span>Stepping up the game</a></span><ul class=\"toc-item\"><li><span><a href=\"#Challenge-10---The-20-latest-earthquakes-info-(date,-time,-latitude,-longitude-and-region-name)-by-the-EMSC-as-a-pandas-dataframe\" data-toc-modified-id=\"Challenge-10---The-20-latest-earthquakes-info-(date,-time,-latitude,-longitude-and-region-name)-by-the-EMSC-as-a-pandas-dataframe-1.0.2.1\"><span class=\"toc-item-num\">1.0.2.1&nbsp;&nbsp;</span>Challenge 10 - The 20 latest earthquakes info (date, time, latitude, longitude and region name) by the EMSC as a pandas dataframe</a></span></li><li><span><a href=\"#Challenge-11---IMDB's-Top-250-data-(movie-name,-Initial-release,-director-name-and-stars)-as-a-pandas-dataframe\" data-toc-modified-id=\"Challenge-11---IMDB's-Top-250-data-(movie-name,-Initial-release,-director-name-and-stars)-as-a-pandas-dataframe-1.0.2.2\"><span class=\"toc-item-num\">1.0.2.2&nbsp;&nbsp;</span>Challenge 11 - IMDB's Top 250 data (movie name, Initial release, director name and stars) as a pandas dataframe</a></span></li><li><span><a href=\"#Challenge-12---Movie-name,-year-and-a-brief-summary-of-the-top-10-random-movies-(IMDB)-as-a-pandas-dataframe.\" data-toc-modified-id=\"Challenge-12---Movie-name,-year-and-a-brief-summary-of-the-top-10-random-movies-(IMDB)-as-a-pandas-dataframe.-1.0.2.3\"><span class=\"toc-item-num\">1.0.2.3&nbsp;&nbsp;</span>Challenge 12 - Movie name, year and a brief summary of the top 10 random movies (IMDB) as a pandas dataframe.</a></span></li><li><span><a href=\"#Challenge-13---Find-the-live-weather-report-(temperature,-wind-speed,-description-and-weather)-of-a-given-city.\" data-toc-modified-id=\"Challenge-13---Find-the-live-weather-report-(temperature,-wind-speed,-description-and-weather)-of-a-given-city.-1.0.2.4\"><span class=\"toc-item-num\">1.0.2.4&nbsp;&nbsp;</span>Challenge 13 - Find the live weather report (temperature, wind speed, description and weather) of a given city.</a></span></li><li><span><a href=\"#Challenge-14---Book-name,price-and-stock-availability-as-a-pandas-dataframe.\" data-toc-modified-id=\"Challenge-14---Book-name,price-and-stock-availability-as-a-pandas-dataframe.-1.0.2.5\"><span class=\"toc-item-num\">1.0.2.5&nbsp;&nbsp;</span>Challenge 14 - Book name,price and stock availability as a pandas dataframe.</a></span></li></ul></li></ul></li></ul></li></ul></div>"
   ]
  },
  {
   "cell_type": "markdown",
   "metadata": {},
   "source": [
    "# Laboratorio de Web Scraping\n",
    "\n",
    "Encontrarás en este cuaderno algunos ejercicios de web scraping para practicar tus habilidades de scraping usando `requests` y `Beautiful Soup`.\n",
    "\n",
    "**Consejos:**\n",
    "\n",
    "- Verifica el [código de estado de la respuesta](https://http.cat/) para cada solicitud para asegurarte de haber obtenido el contenido previsto.\n",
    "- Observa el código HTML en cada solicitud para entender el tipo de información que estás obteniendo y su formato.\n",
    "- Busca patrones en el texto de respuesta para extraer los datos/información solicitados en cada pregunta.\n",
    "- Visita cada URL y echa un vistazo a su fuente a través de Chrome DevTools. Necesitarás identificar las etiquetas HTML, nombres de clases especiales, etc., utilizados para el contenido HTML que se espera extraer.\n",
    "- Revisa los selectores CSS.\n",
    "\n",
    "### Recursos Útiles\n",
    "- Documentación de la [biblioteca Requests](http://docs.python-requests.org/en/master/#the-user-guide)\n",
    "- [Doc de Beautiful Soup](https://www.crummy.com/software/BeautifulSoup/bs4/doc/)\n",
    "- [Lista de códigos de estado HTTP](https://en.wikipedia.org/wiki/List_of_HTTP_status_codes)\n",
    "- [Conceptos básicos de HTML](http://www.simplehtmlguide.com/cheatsheet.php)\n",
    "- [Conceptos básicos de CSS](https://www.cssbasics.com/#page_start)\n",
    "\n",
    "#### Primero que todo, reuniendo nuestras herramientas."
   ]
  },
  {
   "cell_type": "code",
   "execution_count": 1434,
   "metadata": {},
   "outputs": [],
   "source": [
    "import requests\n",
    "from bs4 import BeautifulSoup\n",
    "import pandas as pd\n",
    "import json"
   ]
  },
  {
   "cell_type": "markdown",
   "metadata": {},
   "source": [
    "⚠️ **Nuevamente, recuerda limitar tu salida antes de la entrega para que tu código no se pierda en la salida.**\n",
    "\n",
    "#### Desafío 1 - Descargar, analizar (usando BeautifulSoup) e imprimir el contenido de la página de Desarrolladores en Tendencia de GitHub:"
   ]
  },
  {
   "cell_type": "code",
   "execution_count": 1435,
   "metadata": {},
   "outputs": [],
   "source": [
    "# This is the url you will scrape in this exercise\n",
    "url = 'https://github.com/trending/developers'"
   ]
  },
  {
   "cell_type": "code",
   "execution_count": 1436,
   "metadata": {},
   "outputs": [],
   "source": [
    "github_html=requests.get(url).text\n",
    "soup = BeautifulSoup(github_html, \"html.parser\")"
   ]
  },
  {
   "cell_type": "markdown",
   "metadata": {},
   "source": [
    "#### Muestra los nombres de los desarrolladores en tendencia recuperados en el paso anterior.\n",
    "\n",
    "Tu salida debe ser una lista de Python con los nombres de los desarrolladores. Cada nombre no debe contener ninguna etiqueta HTML.\n",
    "\n",
    "**Instrucciones:**\n",
    "\n",
    "1. Descubre la etiqueta HTML y los nombres de clase usados para los nombres de los desarrolladores. Puedes lograr esto usando Chrome DevTools.\n",
    "\n",
    "1. Usa BeautifulSoup para extraer todos los elementos HTML que contienen los nombres de los desarrolladores.\n",
    "\n",
    "1. Utiliza técnicas de manipulación de cadenas para reemplazar espacios en blanco y saltos de línea (es decir, `\\n`) en el *texto* de cada elemento HTML. Usa una lista para almacenar los nombres limpios.\n",
    "\n",
    "1. Imprime la lista de nombres.\n",
    "\n",
    "Tu salida debería lucir como abajo (con nombres diferentes):\n",
    "\n",
    "```\n",
    "['trimstray (@trimstray)',\n",
    " 'joewalnes (JoeWalnes)',\n",
    " 'charlax (Charles-AxelDein)',\n",
    " 'ForrestKnight (ForrestKnight)',\n",
    " 'revery-ui (revery-ui)',\n",
    " 'alibaba (Alibaba)',\n",
    " 'Microsoft (Microsoft)',\n",
    " 'github (GitHub)',\n",
    " 'facebook (Facebook)',\n",
    " 'boazsegev (Bo)',\n",
    " 'google (Google)',\n",
    " 'cloudfetch',\n",
    " 'sindresorhus (SindreSorhus)',\n",
    " 'tensorflow',\n",
    " 'apache (TheApacheSoftwareFoundation)',\n",
    " 'DevonCrawford (DevonCrawford)',\n",
    " 'ARMmbed (ArmMbed)',\n",
    " 'vuejs (vuejs)',\n",
    " 'fastai (fast.ai)',\n",
    " 'QiShaoXuan (Qi)',\n",
    " 'joelparkerhenderson (JoelParkerHenderson)',\n",
    " 'torvalds (LinusTorvalds)',\n",
    " 'CyC2018',\n",
    " 'komeiji-satori (神楽坂覚々)',\n",
    " 'script-8']\n",
    " ```"
   ]
  },
  {
   "cell_type": "code",
   "execution_count": 1437,
   "metadata": {},
   "outputs": [
    {
     "name": "stdout",
     "output_type": "stream",
     "text": [
      "['Charlie Marsh', 'doronz88', 'Sebastian Raschka', 'dgtlmoon', 'Vik Paruchuri', 'Gal Schlezinger', 'Ariel Mashraki', 'Norman Maurer', 'Marshall Bowers', 'Huang Huang', 'awaelchli', 'Eliott C.', 'Essam', 'Ali Ok', 'David Sherret', 'Arvin Xu', 'J. Nick Koston', 'LangChain4j', 'Andrej', 'Jo', 'Maarten Grootendorst', 'Nicolas Gallagher', 'Greg Magolan', 'Shahed Nasser', 'Elvis Otieno']\n"
     ]
    }
   ],
   "source": [
    "# Tu código aquí\n",
    "names = list(map(lambda node: str(node.text).strip(),soup.select('h1.h3.lh-condensed.lh-condensed > a.Link')))\n",
    "print(names)"
   ]
  },
  {
   "cell_type": "markdown",
   "metadata": {},
   "source": [
    "#### Desafío 2 - Mostrar los repositorios de Python en tendencia en GitHub\n",
    "\n",
    "Los pasos para resolver este problema son similares al anterior, excepto que necesitas encontrar los nombres de los repositorios en lugar de los nombres de los desarrolladores."
   ]
  },
  {
   "cell_type": "code",
   "execution_count": 1438,
   "metadata": {},
   "outputs": [],
   "source": [
    "# This is the url you will scrape in this exercise\n",
    "url2 = 'https://github.com/trending/python?since=daily'\n",
    "datos2 = requests.get(f\"{url2}\").text\n",
    "soup2 = BeautifulSoup(datos2, 'html.parser')"
   ]
  },
  {
   "cell_type": "code",
   "execution_count": 1439,
   "metadata": {},
   "outputs": [
    {
     "name": "stdout",
     "output_type": "stream",
     "text": [
      "['cover-agent', 'MiniCPM-V', 'khoj', 'requests', 'fabric', 'Devon', 'onnx', 'spack', 'PyRIT', 'Langchain-Chatchat', 'pr-agent', 'NGCBot', 'CogVLM2', 'server', 'OpenRLHF', 'ragflow', 'devops-exercises', 'OpenDevin', 'diffusers', 'scapy', 'I-Wanna-Get-All', 'pytorch-lightning', 'CogVLM', 'DeepSeek-VL', 'LaVague']\n"
     ]
    }
   ],
   "source": [
    "repos = list(map(lambda node: str(node.attrs['href']).strip().split('/')[-1],soup2.select('h2.h3.lh-condensed.lh-condensed > a.Link')))\n",
    "print(repos)"
   ]
  },
  {
   "cell_type": "markdown",
   "metadata": {},
   "source": [
    "#### Desafío 3 - Mostrar todos los enlaces de imágenes de la página de Wikipedia de Walt Disney"
   ]
  },
  {
   "cell_type": "code",
   "execution_count": 1440,
   "metadata": {},
   "outputs": [],
   "source": [
    "# This is the url you will scrape in this exercise\n",
    "url3 = 'https://en.wikipedia.org/wiki/Walt_Disney'\n",
    "disney = requests.get(f\"{url3}\").text\n",
    "soup3 = BeautifulSoup(disney, 'html.parser')"
   ]
  },
  {
   "cell_type": "code",
   "execution_count": 1441,
   "metadata": {},
   "outputs": [
    {
     "name": "stdout",
     "output_type": "stream",
     "text": [
      "['https://avatars.githubusercontent.com/u/108689937?s=40&v=4', 'https://avatars.githubusercontent.com/u/170273941?s=40&v=4', 'https://avatars.githubusercontent.com/u/21198860?s=40&v=4', 'https://avatars.githubusercontent.com/u/42740235?s=40&v=4', 'https://avatars.githubusercontent.com/u/30233365?s=40&v=4', 'https://avatars.githubusercontent.com/u/28106858?s=40&v=4', 'https://avatars.githubusercontent.com/u/19372848?s=40&v=4', 'https://avatars.githubusercontent.com/u/5380770?s=40&v=4', 'https://avatars.githubusercontent.com/u/157115220?s=40&v=4', 'https://avatars.githubusercontent.com/u/92843231?s=40&v=4', 'https://avatars.githubusercontent.com/u/6413477?s=40&v=4', 'https://avatars.githubusercontent.com/u/65192171?s=40&v=4', 'https://avatars.githubusercontent.com/u/51520018?s=40&v=4', 'https://avatars.githubusercontent.com/u/68677082?s=40&v=4', 'https://avatars.githubusercontent.com/u/9973?s=40&v=4', 'https://avatars.githubusercontent.com/u/119893?s=40&v=4', 'https://avatars.githubusercontent.com/u/1382556?s=40&v=4', 'https://avatars.githubusercontent.com/u/240830?s=40&v=4', 'https://avatars.githubusercontent.com/u/5271761?s=40&v=4', 'https://avatars.githubusercontent.com/u/376448?s=40&v=4', 'https://avatars.githubusercontent.com/u/50654?s=40&v=4', 'https://avatars.githubusercontent.com/u/9218431?s=40&v=4', 'https://avatars.githubusercontent.com/u/10410523?s=40&v=4', 'https://avatars.githubusercontent.com/u/1226059?s=40&v=4', 'https://avatars.githubusercontent.com/u/167619?s=40&v=4', 'https://avatars.githubusercontent.com/u/32996071?s=40&v=4', 'https://avatars.githubusercontent.com/u/61808204?s=40&v=4', 'https://avatars.githubusercontent.com/u/42549561?s=40&v=4', 'https://avatars.githubusercontent.com/u/6379762?s=40&v=4', 'https://avatars.githubusercontent.com/u/44759128?s=40&v=4', 'https://avatars.githubusercontent.com/u/14194980?s=40&v=4', 'https://avatars.githubusercontent.com/u/10075881?s=40&v=4', 'https://avatars.githubusercontent.com/u/9300575?s=40&v=4', 'https://avatars.githubusercontent.com/u/5194557?s=40&v=4', 'https://avatars.githubusercontent.com/u/30275821?s=40&v=4', 'https://avatars.githubusercontent.com/u/12021217?s=40&v=4', 'https://avatars.githubusercontent.com/u/299842?s=40&v=4', 'https://avatars.githubusercontent.com/u/4199709?s=40&v=4', 'https://avatars.githubusercontent.com/u/194764?s=40&v=4', 'https://avatars.githubusercontent.com/u/19558067?s=40&v=4', 'https://avatars.githubusercontent.com/u/10245648?s=40&v=4', 'https://avatars.githubusercontent.com/u/137218279?s=40&v=4', 'https://avatars.githubusercontent.com/u/43563047?s=40&v=4', 'https://avatars.githubusercontent.com/u/86250273?s=40&v=4', 'https://avatars.githubusercontent.com/u/156258107?s=40&v=4', 'https://avatars.githubusercontent.com/u/5668498?s=40&v=4', 'https://avatars.githubusercontent.com/u/41217877?s=40&v=4', 'https://avatars.githubusercontent.com/u/22924096?s=40&v=4', 'https://avatars.githubusercontent.com/u/93239683?s=40&v=4', 'https://avatars.githubusercontent.com/u/16206043?s=40&v=4', 'https://avatars.githubusercontent.com/u/21198860?s=40&v=4', 'https://avatars.githubusercontent.com/u/4869233?s=40&v=4', 'https://avatars.githubusercontent.com/u/1441832?s=40&v=4', 'https://avatars.githubusercontent.com/in/15368?s=40&v=4', 'https://avatars.githubusercontent.com/u/33152084?s=40&v=4', 'https://avatars.githubusercontent.com/u/52269948?s=40&v=4', 'https://avatars.githubusercontent.com/u/93239683?s=40&v=4', 'https://avatars.githubusercontent.com/u/58135925?s=40&v=4', 'https://avatars.githubusercontent.com/u/9153807?s=40&v=4', 'https://avatars.githubusercontent.com/u/20550255?s=40&v=4', 'https://avatars.githubusercontent.com/u/5104484?s=40&v=4', 'https://avatars.githubusercontent.com/u/41310872?s=40&v=4', 'https://avatars.githubusercontent.com/u/11223643?s=40&v=4', 'https://avatars.githubusercontent.com/u/10909321?s=40&v=4', 'https://avatars.githubusercontent.com/u/10105175?s=40&v=4', 'https://avatars.githubusercontent.com/u/19810594?s=40&v=4', 'https://avatars.githubusercontent.com/u/42762740?s=40&v=4', 'https://avatars.githubusercontent.com/u/10410189?s=40&v=4', 'https://avatars.githubusercontent.com/in/68672?s=40&v=4', 'https://avatars.githubusercontent.com/u/31949186?s=40&v=4', 'https://avatars.githubusercontent.com/u/12318111?s=40&v=4', 'https://avatars.githubusercontent.com/u/8089971?s=40&v=4', 'https://avatars.githubusercontent.com/u/93570324?s=40&v=4', 'https://avatars.githubusercontent.com/u/33142505?s=40&v=4', 'https://avatars.githubusercontent.com/u/40135906?s=40&v=4', 'https://avatars.githubusercontent.com/u/37985796?s=40&v=4', 'https://avatars.githubusercontent.com/u/26654315?s=40&v=4', 'https://avatars.githubusercontent.com/u/10349437?s=40&v=4', 'https://avatars.githubusercontent.com/u/23431146?s=40&v=4', 'https://avatars.githubusercontent.com/u/59370927?s=40&v=4', 'https://avatars.githubusercontent.com/u/7611973?s=40&v=4', 'https://avatars.githubusercontent.com/u/38853559?s=40&v=4', 'https://avatars.githubusercontent.com/u/6080905?s=40&v=4', 'https://avatars.githubusercontent.com/u/25746010?s=40&v=4', 'https://avatars.githubusercontent.com/u/46636043?s=40&v=4', 'https://avatars.githubusercontent.com/u/23423619?s=40&v=4', 'https://avatars.githubusercontent.com/u/22957388?s=40&v=4', 'https://avatars.githubusercontent.com/u/27137566?s=40&v=4', 'https://avatars.githubusercontent.com/u/26864830?s=40&v=4', 'https://avatars.githubusercontent.com/u/1177582?s=40&v=4', 'https://avatars.githubusercontent.com/u/10530980?s=40&v=4', 'https://avatars.githubusercontent.com/u/5064814?s=40&v=4', 'https://avatars.githubusercontent.com/u/11683796?s=40&v=4', 'https://avatars.githubusercontent.com/u/1108574?s=40&v=4', 'https://avatars.githubusercontent.com/u/1676055?s=40&v=4', 'https://avatars.githubusercontent.com/u/93909093?s=40&v=4', 'https://avatars.githubusercontent.com/u/3640001?s=40&v=4', 'https://avatars.githubusercontent.com/u/6035284?s=40&v=4', 'https://avatars.githubusercontent.com/u/5495193?s=40&v=4', 'https://avatars.githubusercontent.com/u/11067892?s=40&v=4', 'https://avatars.githubusercontent.com/u/12861981?s=40&v=4', 'https://avatars.githubusercontent.com/u/93239683?s=40&v=4', 'https://avatars.githubusercontent.com/u/15194939?s=40&v=4', 'https://avatars.githubusercontent.com/u/48993524?s=40&v=4', 'https://avatars.githubusercontent.com/u/58135925?s=40&v=4', 'https://avatars.githubusercontent.com/u/10005248?s=40&v=4', 'https://avatars.githubusercontent.com/u/22798411?s=40&v=4', 'https://avatars.githubusercontent.com/u/39251602?s=40&v=4', 'https://avatars.githubusercontent.com/u/32269413?s=40&v=4', 'https://avatars.githubusercontent.com/u/152240452?s=40&v=4', 'https://avatars.githubusercontent.com/u/37035235?s=40&v=4', 'https://avatars.githubusercontent.com/u/52970539?s=40&v=4', 'https://avatars.githubusercontent.com/u/20685007?s=40&v=4', 'https://avatars.githubusercontent.com/u/56654600?s=40&v=4', 'https://avatars.githubusercontent.com/u/36925557?s=40&v=4', 'https://avatars.githubusercontent.com/u/22163205?s=40&v=4']\n"
     ]
    }
   ],
   "source": [
    "images = list(map(lambda node: str(node.attrs['src']), soup2.select('img')))\n",
    "print(images)"
   ]
  },
  {
   "cell_type": "markdown",
   "metadata": {},
   "source": [
    "#### Desafío 4 - Recuperar todos los enlaces a páginas en Wikipedia que se refieren a algún tipo de Python."
   ]
  },
  {
   "cell_type": "code",
   "execution_count": 1442,
   "metadata": {},
   "outputs": [],
   "source": [
    "url4 ='https://en.wikipedia.org/wiki/Python' \n",
    "python = requests.get(f\"{url4}\").text\n",
    "soup4 = BeautifulSoup(python, 'html.parser')"
   ]
  },
  {
   "cell_type": "code",
   "execution_count": 1443,
   "metadata": {},
   "outputs": [
    {
     "name": "stdout",
     "output_type": "stream",
     "text": [
      "['/login?return_to=https%3A%2F%2Fgithub.com%2Ftrending%2Fpython%3Fsince%3Ddaily', '/login?return_to=https%3A%2F%2Fgithub.com%2Ftrending%2Fpython%3Fsince%3Ddaily', '/signup?ref_cta=Sign+up&ref_loc=header+logged+out&ref_page=%2Ftrending%2Fpython&source=header', '/trending/python?since=daily&spoken_language_code=ab', '/trending/python?since=daily&spoken_language_code=aa', '/trending/python?since=daily&spoken_language_code=af', '/trending/python?since=daily&spoken_language_code=ak', '/trending/python?since=daily&spoken_language_code=sq', '/trending/python?since=daily&spoken_language_code=am', '/trending/python?since=daily&spoken_language_code=ar', '/trending/python?since=daily&spoken_language_code=an', '/trending/python?since=daily&spoken_language_code=hy', '/trending/python?since=daily&spoken_language_code=as', '/trending/python?since=daily&spoken_language_code=av', '/trending/python?since=daily&spoken_language_code=ae', '/trending/python?since=daily&spoken_language_code=ay', '/trending/python?since=daily&spoken_language_code=az', '/trending/python?since=daily&spoken_language_code=bm', '/trending/python?since=daily&spoken_language_code=ba', '/trending/python?since=daily&spoken_language_code=eu', '/trending/python?since=daily&spoken_language_code=be', '/trending/python?since=daily&spoken_language_code=bn', '/trending/python?since=daily&spoken_language_code=bh', '/trending/python?since=daily&spoken_language_code=bi', '/trending/python?since=daily&spoken_language_code=bs', '/trending/python?since=daily&spoken_language_code=br', '/trending/python?since=daily&spoken_language_code=bg', '/trending/python?since=daily&spoken_language_code=my', '/trending/python?since=daily&spoken_language_code=ca', '/trending/python?since=daily&spoken_language_code=ch', '/trending/python?since=daily&spoken_language_code=ce', '/trending/python?since=daily&spoken_language_code=ny', '/trending/python?since=daily&spoken_language_code=zh', '/trending/python?since=daily&spoken_language_code=cv', '/trending/python?since=daily&spoken_language_code=kw', '/trending/python?since=daily&spoken_language_code=co', '/trending/python?since=daily&spoken_language_code=cr', '/trending/python?since=daily&spoken_language_code=hr', '/trending/python?since=daily&spoken_language_code=cs', '/trending/python?since=daily&spoken_language_code=da', '/trending/python?since=daily&spoken_language_code=dv', '/trending/python?since=daily&spoken_language_code=nl', '/trending/python?since=daily&spoken_language_code=dz', '/trending/python?since=daily&spoken_language_code=en', '/trending/python?since=daily&spoken_language_code=eo', '/trending/python?since=daily&spoken_language_code=et', '/trending/python?since=daily&spoken_language_code=ee', '/trending/python?since=daily&spoken_language_code=fo', '/trending/python?since=daily&spoken_language_code=fj', '/trending/python?since=daily&spoken_language_code=fi', '/trending/python?since=daily&spoken_language_code=fr', '/trending/python?since=daily&spoken_language_code=ff', '/trending/python?since=daily&spoken_language_code=gl', '/trending/python?since=daily&spoken_language_code=ka', '/trending/python?since=daily&spoken_language_code=de', '/trending/python?since=daily&spoken_language_code=el', '/trending/python?since=daily&spoken_language_code=gn', '/trending/python?since=daily&spoken_language_code=gu', '/trending/python?since=daily&spoken_language_code=ht', '/trending/python?since=daily&spoken_language_code=ha', '/trending/python?since=daily&spoken_language_code=he', '/trending/python?since=daily&spoken_language_code=hz', '/trending/python?since=daily&spoken_language_code=hi', '/trending/python?since=daily&spoken_language_code=ho', '/trending/python?since=daily&spoken_language_code=hu', '/trending/python?since=daily&spoken_language_code=ia', '/trending/python?since=daily&spoken_language_code=id', '/trending/python?since=daily&spoken_language_code=ie', '/trending/python?since=daily&spoken_language_code=ga', '/trending/python?since=daily&spoken_language_code=ig', '/trending/python?since=daily&spoken_language_code=ik', '/trending/python?since=daily&spoken_language_code=io', '/trending/python?since=daily&spoken_language_code=is', '/trending/python?since=daily&spoken_language_code=it', '/trending/python?since=daily&spoken_language_code=iu', '/trending/python?since=daily&spoken_language_code=ja', '/trending/python?since=daily&spoken_language_code=jv', '/trending/python?since=daily&spoken_language_code=kl', '/trending/python?since=daily&spoken_language_code=kn', '/trending/python?since=daily&spoken_language_code=kr', '/trending/python?since=daily&spoken_language_code=ks', '/trending/python?since=daily&spoken_language_code=kk', '/trending/python?since=daily&spoken_language_code=km', '/trending/python?since=daily&spoken_language_code=ki', '/trending/python?since=daily&spoken_language_code=rw', '/trending/python?since=daily&spoken_language_code=ky', '/trending/python?since=daily&spoken_language_code=kv', '/trending/python?since=daily&spoken_language_code=kg', '/trending/python?since=daily&spoken_language_code=ko', '/trending/python?since=daily&spoken_language_code=ku', '/trending/python?since=daily&spoken_language_code=kj', '/trending/python?since=daily&spoken_language_code=la', '/trending/python?since=daily&spoken_language_code=lb', '/trending/python?since=daily&spoken_language_code=lg', '/trending/python?since=daily&spoken_language_code=li', '/trending/python?since=daily&spoken_language_code=ln', '/trending/python?since=daily&spoken_language_code=lo', '/trending/python?since=daily&spoken_language_code=lt', '/trending/python?since=daily&spoken_language_code=lu', '/trending/python?since=daily&spoken_language_code=lv', '/trending/python?since=daily&spoken_language_code=gv', '/trending/python?since=daily&spoken_language_code=mk', '/trending/python?since=daily&spoken_language_code=mg', '/trending/python?since=daily&spoken_language_code=ms', '/trending/python?since=daily&spoken_language_code=ml', '/trending/python?since=daily&spoken_language_code=mt', '/trending/python?since=daily&spoken_language_code=mi', '/trending/python?since=daily&spoken_language_code=mr', '/trending/python?since=daily&spoken_language_code=mh', '/trending/python?since=daily&spoken_language_code=mn', '/trending/python?since=daily&spoken_language_code=na', '/trending/python?since=daily&spoken_language_code=nv', '/trending/python?since=daily&spoken_language_code=nd', '/trending/python?since=daily&spoken_language_code=ne', '/trending/python?since=daily&spoken_language_code=ng', '/trending/python?since=daily&spoken_language_code=nb', '/trending/python?since=daily&spoken_language_code=nn', '/trending/python?since=daily&spoken_language_code=no', '/trending/python?since=daily&spoken_language_code=ii', '/trending/python?since=daily&spoken_language_code=nr', '/trending/python?since=daily&spoken_language_code=oc', '/trending/python?since=daily&spoken_language_code=oj', '/trending/python?since=daily&spoken_language_code=cu', '/trending/python?since=daily&spoken_language_code=om', '/trending/python?since=daily&spoken_language_code=or', '/trending/python?since=daily&spoken_language_code=os', '/trending/python?since=daily&spoken_language_code=pa', '/trending/python?since=daily&spoken_language_code=pi', '/trending/python?since=daily&spoken_language_code=fa', '/trending/python?since=daily&spoken_language_code=pl', '/trending/python?since=daily&spoken_language_code=ps', '/trending/python?since=daily&spoken_language_code=pt', '/trending/python?since=daily&spoken_language_code=qu', '/trending/python?since=daily&spoken_language_code=rm', '/trending/python?since=daily&spoken_language_code=rn', '/trending/python?since=daily&spoken_language_code=ro', '/trending/python?since=daily&spoken_language_code=ru', '/trending/python?since=daily&spoken_language_code=sa', '/trending/python?since=daily&spoken_language_code=sc', '/trending/python?since=daily&spoken_language_code=sd', '/trending/python?since=daily&spoken_language_code=se', '/trending/python?since=daily&spoken_language_code=sm', '/trending/python?since=daily&spoken_language_code=sg', '/trending/python?since=daily&spoken_language_code=sr', '/trending/python?since=daily&spoken_language_code=gd', '/trending/python?since=daily&spoken_language_code=sn', '/trending/python?since=daily&spoken_language_code=si', '/trending/python?since=daily&spoken_language_code=sk', '/trending/python?since=daily&spoken_language_code=sl', '/trending/python?since=daily&spoken_language_code=so', '/trending/python?since=daily&spoken_language_code=st', '/trending/python?since=daily&spoken_language_code=es', '/trending/python?since=daily&spoken_language_code=su', '/trending/python?since=daily&spoken_language_code=sw', '/trending/python?since=daily&spoken_language_code=ss', '/trending/python?since=daily&spoken_language_code=sv', '/trending/python?since=daily&spoken_language_code=ta', '/trending/python?since=daily&spoken_language_code=te', '/trending/python?since=daily&spoken_language_code=tg', '/trending/python?since=daily&spoken_language_code=th', '/trending/python?since=daily&spoken_language_code=ti', '/trending/python?since=daily&spoken_language_code=bo', '/trending/python?since=daily&spoken_language_code=tk', '/trending/python?since=daily&spoken_language_code=tl', '/trending/python?since=daily&spoken_language_code=tn', '/trending/python?since=daily&spoken_language_code=to', '/trending/python?since=daily&spoken_language_code=tr', '/trending/python?since=daily&spoken_language_code=ts', '/trending/python?since=daily&spoken_language_code=tt', '/trending/python?since=daily&spoken_language_code=tw', '/trending/python?since=daily&spoken_language_code=ty', '/trending/python?since=daily&spoken_language_code=ug', '/trending/python?since=daily&spoken_language_code=uk', '/trending/python?since=daily&spoken_language_code=ur', '/trending/python?since=daily&spoken_language_code=uz', '/trending/python?since=daily&spoken_language_code=ve', '/trending/python?since=daily&spoken_language_code=vi', '/trending/python?since=daily&spoken_language_code=vo', '/trending/python?since=daily&spoken_language_code=wa', '/trending/python?since=daily&spoken_language_code=cy', '/trending/python?since=daily&spoken_language_code=wo', '/trending/python?since=daily&spoken_language_code=fy', '/trending/python?since=daily&spoken_language_code=xh', '/trending/python?since=daily&spoken_language_code=yi', '/trending/python?since=daily&spoken_language_code=yo', '/trending/python?since=daily&spoken_language_code=za', '/trending/python?since=daily&spoken_language_code=zu', '/trending?since=daily', '/trending/python-console?since=daily', '/trending/python-traceback?since=daily', 'https://github.com/trending/python?since=daily', 'https://github.com/trending/python?since=weekly', 'https://github.com/trending/python?since=monthly']\n"
     ]
    }
   ],
   "source": [
    "def parseNode(node):\n",
    "    try:\n",
    "        return { 'href': str(node.attrs['href']) or '', 'text': str(node.text) or '' }\n",
    "    except:\n",
    "        return None\n",
    "\n",
    "links = list(map(parseNode,soup2.select('a')))\n",
    "\n",
    "pythons = list(map(lambda node: node['href'],filter(lambda node: node != None and 'python' in node['text'].strip().lower() or 'python' in node['href'].strip().lower(),links)))\n",
    "print(pythons)"
   ]
  },
  {
   "cell_type": "markdown",
   "metadata": {},
   "source": [
    "#### Desafío 5 - Número de Títulos que han cambiado en el Código de los Estados Unidos desde su último punto de lanzamiento"
   ]
  },
  {
   "cell_type": "code",
   "execution_count": 1444,
   "metadata": {},
   "outputs": [],
   "source": [
    "# This is the url you will scrape in this exercise\n",
    "url5 = 'http://uscode.house.gov/download/download.shtml'"
   ]
  },
  {
   "cell_type": "code",
   "execution_count": 1445,
   "metadata": {},
   "outputs": [
    {
     "name": "stdout",
     "output_type": "stream",
     "text": [
      "['Title 26 - Internal Revenue Code', 'Title 42 - The Public Health and Welfare']\n"
     ]
    }
   ],
   "source": [
    "python = requests.get(f\"{url5}\").text\n",
    "soup5 = BeautifulSoup(python, 'html.parser')\n",
    "\n",
    "entries = list(map(lambda node: str(node.text).strip(), soup5.select('div.usctitlechanged')))\n",
    "print(entries)"
   ]
  },
  {
   "cell_type": "markdown",
   "metadata": {},
   "source": [
    "#### Desafío 6 - Una lista de Python con los diez nombres más buscados por el FBI"
   ]
  },
  {
   "cell_type": "code",
   "execution_count": 1446,
   "metadata": {},
   "outputs": [],
   "source": [
    "# This is the url you will scrape in this exerciseS\n",
    "url7 = 'https://www.fbi.gov/wanted/topten'"
   ]
  },
  {
   "cell_type": "code",
   "execution_count": 1447,
   "metadata": {},
   "outputs": [],
   "source": [
    "wanted = requests.get(f\"{url7}\", headers={'Referer': 'https://www.fbi.gov/++theme++fbi-youtube-fix/css/index.css?v=10.1'}).text\n",
    "soup7 = BeautifulSoup(wanted, 'html.parser')\n",
    "wantedtag = soup7.find_all('h3')"
   ]
  },
  {
   "cell_type": "code",
   "execution_count": 1448,
   "metadata": {},
   "outputs": [
    {
     "name": "stdout",
     "output_type": "stream",
     "text": [
      "El FBI te ha bloqueado\n",
      "[]\n"
     ]
    }
   ],
   "source": [
    "cacos = list(map(lambda node: str(node.text).strip(), soup7.select('h3.title > a')))\n",
    "if len(cacos) == 0:\n",
    "    print(\"El FBI te ha bloqueado\")\n",
    "print(cacos)"
   ]
  },
  {
   "cell_type": "markdown",
   "metadata": {},
   "source": [
    "#### Desafío 7 - Listar todos los nombres de idiomas y el número de artículos relacionados en el orden en que aparecen en wikipedia.org"
   ]
  },
  {
   "cell_type": "code",
   "execution_count": 1449,
   "metadata": {},
   "outputs": [],
   "source": [
    "# This is the url you will scrape in this exercise\n",
    "url8 = 'https://www.wikipedia.org/'"
   ]
  },
  {
   "cell_type": "code",
   "execution_count": 1450,
   "metadata": {},
   "outputs": [],
   "source": [
    "languages = requests.get(f\"{url8}\").text\n",
    "soup8 = BeautifulSoup(languages, 'html.parser')\n",
    "langlist = soup8.find_all(\"div\", {\"class\": f\"central-featured-lang\"})"
   ]
  },
  {
   "cell_type": "code",
   "execution_count": 1451,
   "metadata": {},
   "outputs": [],
   "source": [
    "# Tu código aquí"
   ]
  },
  {
   "cell_type": "markdown",
   "metadata": {},
   "source": [
    "#### Desafío 8 - Una lista con los diferentes tipos de conjuntos de datos disponibles en data.gov.uk"
   ]
  },
  {
   "cell_type": "code",
   "execution_count": 1452,
   "metadata": {},
   "outputs": [],
   "source": [
    "# This is the url you will scrape in this exercise\n",
    "url82 = 'https://data.gov.uk/'\n",
    "dats = requests.get(f\"{url82}\")\n",
    "soup8 = BeautifulSoup(dats.content, 'html.parser')"
   ]
  },
  {
   "cell_type": "code",
   "execution_count": null,
   "metadata": {},
   "outputs": [],
   "source": [
    "# Tu código aquí"
   ]
  },
  {
   "cell_type": "markdown",
   "metadata": {},
   "source": [
    "#### Desafío 9 - Los 10 idiomas con más hablantes nativos almacenados en un DataFrame de Pandas"
   ]
  },
  {
   "cell_type": "code",
   "execution_count": null,
   "metadata": {},
   "outputs": [],
   "source": [
    "# This is the url you will scrape in this exercise\n",
    "url9 = 'https://en.wikipedia.org/wiki/List_of_languages_by_number_of_native_speakers'\n",
    "tenlang = requests.get(url9)\n",
    "soup9 = BeautifulSoup(tenlang.content,\"html.parser\")"
   ]
  },
  {
   "cell_type": "code",
   "execution_count": null,
   "metadata": {},
   "outputs": [],
   "source": [
    "# Tu código aquí"
   ]
  },
  {
   "cell_type": "markdown",
   "metadata": {},
   "source": [
    "### Subiendo el nivel\n",
    "#### Desafío 10 - La información de los 20 últimos terremotos (fecha, hora, latitud, longitud y nombre de la región) por el EMSC como un dataframe de pandas"
   ]
  },
  {
   "cell_type": "code",
   "execution_count": null,
   "metadata": {},
   "outputs": [],
   "source": [
    "# This is the url you will scrape in this exercise\n",
    "#url7 = 'https://www.emsc-csem.org/Earthquake/'\n",
    "url7 = \"https://www.emsc-csem.org/#2\""
   ]
  },
  {
   "cell_type": "code",
   "execution_count": null,
   "metadata": {},
   "outputs": [],
   "source": [
    "# Tu código aquí"
   ]
  },
  {
   "cell_type": "markdown",
   "metadata": {},
   "source": [
    "#### Desafío 11 - Datos del Top 250 de IMDB (nombre de la película, lanzamiento inicial, nombre del director y estrellas) como un dataframe de pandas"
   ]
  },
  {
   "cell_type": "code",
   "execution_count": null,
   "metadata": {},
   "outputs": [],
   "source": [
    "# This is the url you will scrape in this exercise \n",
    "url11 = 'https://www.imdb.com/chart/top'\n",
    "pelis = requests.get(url11)\n",
    "soup = BeautifulSoup(pelis.content,\"html.parser\")"
   ]
  },
  {
   "cell_type": "code",
   "execution_count": null,
   "metadata": {},
   "outputs": [],
   "source": [
    "# Tu código aquí"
   ]
  },
  {
   "cell_type": "markdown",
   "metadata": {},
   "source": [
    "#### Desafío 12 - Nombre de la película, año y un breve resumen de las 10 películas aleatorias top (IMDB) como un dataframe de pandas."
   ]
  },
  {
   "cell_type": "code",
   "execution_count": null,
   "metadata": {},
   "outputs": [],
   "source": [
    "#This is the url you will scrape in this exercise\n",
    "url = 'http://www.imdb.com/chart/top'"
   ]
  },
  {
   "cell_type": "code",
   "execution_count": null,
   "metadata": {},
   "outputs": [],
   "source": [
    "years = list(soup.find_all(\"span\", {\"class\": \"secondaryInfo\"}))"
   ]
  },
  {
   "cell_type": "code",
   "execution_count": null,
   "metadata": {},
   "outputs": [],
   "source": [
    "# Tu código aquí"
   ]
  },
  {
   "cell_type": "markdown",
   "metadata": {},
   "source": [
    "#### Desafío 13 - Encontrar el reporte meteorológico en vivo (temperatura, velocidad del viento, descripción y clima) de una ciudad dada."
   ]
  },
  {
   "cell_type": "code",
   "execution_count": null,
   "metadata": {},
   "outputs": [],
   "source": [
    "#https://openweathermap.org/current"
   ]
  },
  {
   "cell_type": "code",
   "execution_count": null,
   "metadata": {},
   "outputs": [],
   "source": [
    "def weather(city):\n",
    "    pass"
   ]
  },
  {
   "cell_type": "markdown",
   "metadata": {},
   "source": [
    "#### Desafío 14 - Nombre del libro, precio y disponibilidad de stock como un dataframe de pandas."
   ]
  },
  {
   "cell_type": "code",
   "execution_count": null,
   "metadata": {},
   "outputs": [],
   "source": [
    "# This is the url you will scrape in this exercise. \n",
    "# It is a fictional bookstore created to be scraped. \n",
    "url14 = 'http://books.toscrape.com/'\n",
    "books = requests.get(url11)\n",
    "soup = BeautifulSoup(books.content,\"html.parser\")"
   ]
  },
  {
   "cell_type": "code",
   "execution_count": null,
   "metadata": {},
   "outputs": [],
   "source": [
    "libros = list(soup.select('h1.h3 a[tittle]'))\n",
    "#nombres = soup.select('h1.h3 a[tittle]')"
   ]
  },
  {
   "cell_type": "code",
   "execution_count": null,
   "metadata": {},
   "outputs": [],
   "source": [
    "# Tu código aquí"
   ]
  },
  {
   "cell_type": "markdown",
   "metadata": {},
   "source": [
    "**Limitates tu output? Gracias! 🙂**"
   ]
  }
 ],
 "metadata": {
  "kernelspec": {
   "display_name": "Python 3 (ipykernel)",
   "language": "python",
   "name": "python3"
  },
  "language_info": {
   "codemirror_mode": {
    "name": "ipython",
    "version": 3
   },
   "file_extension": ".py",
   "mimetype": "text/x-python",
   "name": "python",
   "nbconvert_exporter": "python",
   "pygments_lexer": "ipython3",
   "version": "3.10.12"
  },
  "toc": {
   "base_numbering": 1,
   "nav_menu": {},
   "number_sections": true,
   "sideBar": true,
   "skip_h1_title": false,
   "title_cell": "Table of Contents",
   "title_sidebar": "Contents",
   "toc_cell": true,
   "toc_position": {},
   "toc_section_display": true,
   "toc_window_display": false
  },
  "varInspector": {
   "cols": {
    "lenName": 16,
    "lenType": 16,
    "lenVar": 40
   },
   "kernels_config": {
    "python": {
     "delete_cmd_postfix": "",
     "delete_cmd_prefix": "del ",
     "library": "var_list.py",
     "varRefreshCmd": "print(var_dic_list())"
    },
    "r": {
     "delete_cmd_postfix": ") ",
     "delete_cmd_prefix": "rm(",
     "library": "var_list.r",
     "varRefreshCmd": "cat(var_dic_list()) "
    }
   },
   "types_to_exclude": [
    "module",
    "function",
    "builtin_function_or_method",
    "instance",
    "_Feature"
   ],
   "window_display": false
  }
 },
 "nbformat": 4,
 "nbformat_minor": 2
}
